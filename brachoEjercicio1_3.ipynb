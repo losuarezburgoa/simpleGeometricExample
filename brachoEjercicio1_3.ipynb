{
 "cells": [
  {
   "cell_type": "markdown",
   "metadata": {},
   "source": [
    "Gráfica de puntos en Python 3\n",
    "============================="
   ]
  },
  {
   "cell_type": "markdown",
   "metadata": {},
   "source": [
    "Ejercicio\n",
    "---------\n",
    "(Tomado del ejercicio 1.3. de Bracho (2009), página 5.)\n",
    "Encuentre los diferentes puntos en $\\mathbb{R}^2$ dados por sus coordenadas. Los puntos son: $(3,2)$, $(-1,5)$, $(0,-4)$, $(-1,-2)$ y $(\\frac{1}{2},-\\frac{3}{2})$.\n",
    "\n",
    "El enunciado del ejercicio original era:\n",
    ">Encuentra diferentes puntos en el plano dados por sus coordenadas (por ejemplo, el (3,2), el (-1,5), ..."
   ]
  },
  {
   "cell_type": "markdown",
   "metadata": {},
   "source": [
    "Respuesta\n",
    "---------\n",
    "(Respuesta propuesta por Ludger O. Suárez-Burgoa, 27 junio 2016.)\n",
    "Primero vamos a poner los puntos en una tabla.\n",
    "\n",
    "|Punto|Coordenada $\\mathrm{x}$|Coordenada $\\mathrm{y}$|\n",
    "|---|:---:|:---:|\n",
    "|1|$3$|$2$|\n",
    "|2|$-1$|$5$|\n",
    "|3|$0$|$-4$|\n",
    "|4|$-1$|$-2$|\n",
    "|5|$\\frac{1}{2}$|$-\\frac{3}{2}$|\n",
    "\n",
    "El libro de Bracho (2009), que por cierto es muy bueno, resuelve la mayoría de sus problemas geométricos y elabora sus gráficas en el programa [Cinderella](http://www.cinderella.de/tiki-index.php). Sin embargo, aquí queremos resolver aplicando [Python 3](https://www.python.org/download/releases/3.0/). La solución es la siguiente."
   ]
  },
  {
   "cell_type": "code",
   "execution_count": 59,
   "metadata": {
    "collapsed": false,
    "scrolled": true
   },
   "outputs": [
    {
     "name": "stdout",
     "output_type": "stream",
     "text": [
      "Mostramos los puntos para verificar que son correctos:\n",
      "Point2D(3, 2)\n",
      "Point2D(-1, 5)\n",
      "Point2D(0, -4)\n",
      "Point2D(-1, -2)\n",
      "Point2D(1/2, -3/2)\n"
     ]
    }
   ],
   "source": [
    "import sympy\n",
    "import sympy.geometry as spg\n",
    "\n",
    "ptsList =[spg.Point(3,2), spg.Point(-1,5), spg.Point(0,-4), \\\n",
    "                      spg.Point(-1,-2), spg.Point(1/2.,-3/2.)]\n",
    "\n",
    "print(\"Mostramos los puntos para verificar que son correctos:\")\n",
    "for el in ptsList:\n",
    "    print(el)"
   ]
  },
  {
   "cell_type": "markdown",
   "metadata": {},
   "source": [
    "Hemos usado el módulo de `sympy` porque tiene la opción de trabajar con objetos de geometría básicos como puntos, rectas, segmentos, polígonos irregulares y regulares, círculos, elipses; además que posibilita hacer operaciones entre estos objetos como por ejemplo verificar si tres puntos son colineales, la intersección de segmentos y líneas.\n",
    "\n",
    "Ahora graficamos los puntos en $\\mathbb{R}^2$ con el módulo `pyplot` de `matplotlib`."
   ]
  },
  {
   "cell_type": "code",
   "execution_count": 60,
   "metadata": {
    "collapsed": false
   },
   "outputs": [
    {
     "data": {
      "image/png": "[encoded data removed]",
      "text/plain": [
       "<matplotlib.figure.Figure at 0xa7c500ac>"
      ]
     },
     "metadata": {},
     "output_type": "display_data"
    }
   ],
   "source": [
    "%matplotlib inline\n",
    "import matplotlib.pyplot as plt\n",
    "\n",
    "fig, ax = plt.subplots()\n",
    "for i, pt in enumerate(ptsList):\n",
    "    x = list(pt)[0]\n",
    "    y = list(pt)[1]\n",
    "    ax.scatter(x, y)\n",
    "    ann ='$P_'+str(i+1)+'$'\n",
    "    ax.annotate(ann, (x,y))\n",
    "\n",
    "ax.spines['right'].set_color('none')\n",
    "ax.spines['top'].set_color('none')\n",
    "ax.xaxis.set_ticks_position('bottom')\n",
    "ax.spines['bottom'].set_position(('data',0))\n",
    "ax.yaxis.set_ticks_position('left')\n",
    "ax.spines['left'].set_position(('data',0))\n",
    "\n",
    "plt.axis('equal')\n",
    "plt.show()"
   ]
  },
  {
   "cell_type": "markdown",
   "metadata": {},
   "source": [
    "***\n",
    "Referencias\n",
    "-----------\n",
    "J. Bracho, 2009. Introducción analítica a las geometrías. Fondo de Cultura Económica: México DF."
   ]
  }
 ],
 "metadata": {
  "kernelspec": {
   "display_name": "Python 3",
   "language": "python",
   "name": "python3"
  },
  "language_info": {
   "codemirror_mode": {
    "name": "ipython",
    "version": 3
   },
   "file_extension": ".py",
   "mimetype": "text/x-python",
   "name": "python",
   "nbconvert_exporter": "python",
   "pygments_lexer": "ipython3",
   "version": "3.4.3"
  }
 },
 "nbformat": 4,
 "nbformat_minor": 0
}
